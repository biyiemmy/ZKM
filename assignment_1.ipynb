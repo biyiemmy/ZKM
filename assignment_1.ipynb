{
 "cells": [
  {
   "cell_type": "code",
   "execution_count": 13,
   "id": "20809702-8fac-44ed-bf69-c4f7df1e81bc",
   "metadata": {},
   "outputs": [
    {
     "name": "stdout",
     "output_type": "stream",
     "text": [
      "A non-trivial factor of 455459 is: 743\n"
     ]
    }
   ],
   "source": [
    "def pollards_rho(n):\n",
    "    def gcd(a, b):\n",
    "        while b:\n",
    "            a, b = b, a % b\n",
    "        return a\n",
    "\n",
    "    a, b = 2, 2\n",
    "\n",
    "    while True:\n",
    "        a = (a * a + 1) % n\n",
    "        b = (b * b + 1) % n\n",
    "        b = (b * b + 1) % n\n",
    "\n",
    "        d = gcd(a - b, n)\n",
    "\n",
    "        if 1 < d < n:\n",
    "            return d\n",
    "\n",
    "        elif d == n:\n",
    "            return None\n",
    "\n",
    "# Testing:\n",
    "composite_integer = 455459\n",
    "factor = pollards_rho(composite_integer)\n",
    "\n",
    "if factor:\n",
    "    print(f\"A non-trivial factor of {composite_integer} is: {factor}\")\n",
    "else:\n",
    "    print(f\"The algorithm failed to find a non-trivial factor for {composite_integer}.\")\n"
   ]
  }
 ],
 "metadata": {
  "kernelspec": {
   "display_name": "Python 3 (ipykernel)",
   "language": "python",
   "name": "python3"
  },
  "language_info": {
   "codemirror_mode": {
    "name": "ipython",
    "version": 3
   },
   "file_extension": ".py",
   "mimetype": "text/x-python",
   "name": "python",
   "nbconvert_exporter": "python",
   "pygments_lexer": "ipython3",
   "version": "3.11.3"
  }
 },
 "nbformat": 4,
 "nbformat_minor": 5
}
