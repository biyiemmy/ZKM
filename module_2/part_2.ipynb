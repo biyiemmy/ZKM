{
 "cells": [
  {
   "cell_type": "code",
   "execution_count": null,
   "metadata": {},
   "outputs": [],
   "source": [
    "import random\n",
    "\n",
    "\n",
    "def main(n, t):\n",
    "    if n == 2 or n == 3:\n",
    "        return \"prime\"\n",
    "\n",
    "    if n % 2 == 0:\n",
    "        return \"composite\"\n",
    "\n",
    "    r, s = n - 1, 0\n",
    "    while r % 2 == 0:\n",
    "        r //= 2\n",
    "        s += 1\n",
    "\n",
    "    for _ in range(t):\n",
    "        a = random.randint(2, n - 2)\n",
    "        y = pow(a, r, n)\n",
    "\n",
    "        if y != 1 and y != n - 1:\n",
    "            j = 1\n",
    "            while j < s and y != n - 1:\n",
    "                y = (y * y) % n\n",
    "                if y == 1:\n",
    "                    return \"composite\"\n",
    "                j += 1\n",
    "            if y != n - 1:\n",
    "                return \"composite\"\n",
    "\n",
    "    return \"prime\"\n",
    "\n",
    "\n",
    "# testing\n",
    "n = 561  # Example composite number\n",
    "t = 100   # Security parameter\n",
    "\n",
    "print(main(n, t))"
   ]
  }
 ],
 "metadata": {
  "language_info": {
   "name": "python"
  },
  "orig_nbformat": 4
 },
 "nbformat": 4,
 "nbformat_minor": 2
}
