{
 "cells": [
  {
   "cell_type": "code",
   "execution_count": null,
   "metadata": {},
   "outputs": [],
   "source": [
    "import random\n",
    "import sympy\n",
    "\n",
    "# 45-digit\n",
    "phrase = \"biyiemmy is coding for ZKM assignment using p\"\n",
    "\n",
    "def phrase_to_number(phrase):\n",
    "    number = \"\"\n",
    "    for char in phrase:\n",
    "        if char.isalpha():\n",
    "            number += str(ord(char.lower()) - 96).zfill(2)\n",
    "        elif char == \" \":\n",
    "            number += \"27\"\n",
    "    return int(number)\n",
    "\n",
    "\n",
    "# 90-digit\n",
    "number = phrase_to_number(phrase)\n",
    "\n",
    "# random digits to make it a 100-digit number\n",
    "while True:\n",
    "    random_digits = ''.join(str(random.randint(0, 9)) for _ in range(11))\n",
    "    test_number = int(str(number) + random_digits)\n",
    "    if sympy.isprime(test_number):\n",
    "        break\n",
    "\n",
    "print(\"Original number:\", test_number)"
   ]
  },
  {
   "cell_type": "code",
   "execution_count": null,
   "metadata": {},
   "outputs": [],
   "source": []
  }
 ],
 "metadata": {
  "kernelspec": {
   "display_name": "Python 3 (ipykernel)",
   "language": "python",
   "name": "python3"
  },
  "language_info": {
   "codemirror_mode": {
    "name": "ipython",
    "version": 3
   },
   "file_extension": ".py",
   "mimetype": "text/x-python",
   "name": "python",
   "nbconvert_exporter": "python",
   "pygments_lexer": "ipython3",
   "version": "3.11.3"
  }
 },
 "nbformat": 4,
 "nbformat_minor": 4
}
