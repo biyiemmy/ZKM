{
 "cells": [
  {
   "cell_type": "code",
   "execution_count": 8,
   "id": "cbe9e682-0ed6-4bba-8be0-4b1300d3cbd1",
   "metadata": {},
   "outputs": [
    {
     "name": "stdout",
     "output_type": "stream",
     "text": [
      "alpha=60, beta=13, n=86544, result=None\n",
      "alpha=65, beta=81, n=61776, result=None\n",
      "alpha=45, beta=80, n=71222, result=None\n",
      "alpha=71, beta=61, n=76524, result=None\n",
      "alpha=52, beta=15, n=25942, result=None\n",
      "alpha=68, beta=10, n=20560, result=None\n",
      "alpha=81, beta=68, n=73063, result=None\n",
      "alpha=50, beta=80, n=1506, result=None\n",
      "alpha=95, beta=71, n=48867, result=None\n",
      "alpha=2, beta=12, n=8269, result=None\n"
     ]
    }
   ],
   "source": [
    "def gcd_extended(a, b):\n",
    "    if a == 0:\n",
    "        return b, 0, 1\n",
    "    else:\n",
    "        gcd, x1, y1 = gcd_extended(b % a, a)\n",
    "        x = y1 - (b // a) * x1\n",
    "        y = x1\n",
    "        return gcd, x, y\n",
    "\n",
    "def modular_inverse(a, n):\n",
    "    gcd, x, y = gcd_extended(a, n)\n",
    "    if gcd != 1:\n",
    "        raise ValueError(f\"{a} has no modular inverse modulo {n}\")\n",
    "    else:\n",
    "        return x % n\n",
    "\n",
    "def pollards_rho(alpha, beta, n):\n",
    "    x0, a0, b0 = 1, 0, 0\n",
    "    x, a, b = x0, a0, b0\n",
    "    x2, a2, b2 = x0, a0, b0\n",
    "\n",
    "    while True:\n",
    "        x = (x * alpha) % n\n",
    "        a = (a + 1) % n\n",
    "        b = (b + x) % n\n",
    "\n",
    "        x2 = (x2 * alpha) % n\n",
    "        a2 = (a2 + 1) % n\n",
    "        b2 = (b2 + x2) % n\n",
    "        x2 = (x2 * alpha) % n\n",
    "        a2 = (a2 + 1) % n\n",
    "        b2 = (b2 + x2) % n\n",
    "\n",
    "        if x == x2:\n",
    "            r = (b - b2) % n\n",
    "            if r == 0:\n",
    "                return None\n",
    "            else:\n",
    "                try:\n",
    "                    x_inv = modular_inverse(r, n)\n",
    "                    result = (x_inv * (a2 - a)) % n\n",
    "                    return result\n",
    "                except ValueError:\n",
    "                    continue\n",
    "\n",
    "# Testing\n",
    "import random\n",
    "\n",
    "for _ in range(10):\n",
    "    alpha = random.randint(2, 100)\n",
    "    beta = random.randint(2, 100)\n",
    "    n = random.randint(101, 99999)\n",
    "    \n",
    "    result = pollards_rho(alpha, beta, n)\n",
    "    print(f\"alpha={alpha}, beta={beta}, n={n}, result={result}\")\n"
   ]
  },
  {
   "cell_type": "code",
   "execution_count": null,
   "id": "841e1c8a-d70b-49a4-8970-7352ce1a1689",
   "metadata": {},
   "outputs": [],
   "source": []
  }
 ],
 "metadata": {
  "kernelspec": {
   "display_name": "Python 3 (ipykernel)",
   "language": "python",
   "name": "python3"
  },
  "language_info": {
   "codemirror_mode": {
    "name": "ipython",
    "version": 3
   },
   "file_extension": ".py",
   "mimetype": "text/x-python",
   "name": "python",
   "nbconvert_exporter": "python",
   "pygments_lexer": "ipython3",
   "version": "3.11.3"
  }
 },
 "nbformat": 4,
 "nbformat_minor": 5
}
