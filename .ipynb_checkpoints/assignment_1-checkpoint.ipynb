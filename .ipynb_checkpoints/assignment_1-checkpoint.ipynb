{
 "cells": [
  {
   "cell_type": "code",
   "execution_count": 13,
   "id": "20809702-8fac-44ed-bf69-c4f7df1e81bc",
   "metadata": {},
   "outputs": [
    {
     "name": "stdout",
     "output_type": "stream",
     "text": [
      "A non-trivial factor of 455459 is: 743\n"
     ]
    }
   ],
   "source": [
    "def pollards_rho(n):\n",
    "    def gcd(a, b):\n",
    "        while b:\n",
    "            a, b = b, a % b\n",
    "        return a\n",
    "\n",
    "    a, b = 2, 2\n",
    "\n",
    "    # Iterate until a non-trivial factor is found\n",
    "    while True:\n",
    "        a = (a * a + 1) % n\n",
    "        b = (b * b + 1) % n\n",
    "        b = (b * b + 1) % n\n",
    "\n",
    "        # Compute gcd(a - b, n)\n",
    "        d = gcd(a - b, n)\n",
    "\n",
    "        # If a non-trivial factor is found, return it\n",
    "        if 1 < d < n:\n",
    "            return d\n",
    "\n",
    "        # If d equals n, terminate with failure\n",
    "        elif d == n:\n",
    "            return None\n",
    "\n",
    "# Testing:\n",
    "composite_integer = 455459\n",
    "factor = pollards_rho(composite_integer)\n",
    "\n",
    "if factor:\n",
    "    print(f\"A non-trivial factor of {composite_integer} is: {factor}\")\n",
    "else:\n",
    "    print(f\"The algorithm failed to find a non-trivial factor for {composite_integer}.\")\n"
   ]
  },
  {
   "cell_type": "code",
   "execution_count": null,
   "id": "7351b9f1-fce6-468e-9645-0f16acdf4cfc",
   "metadata": {},
   "outputs": [],
   "source": []
  },
  {
   "cell_type": "code",
   "execution_count": null,
   "id": "f7916f1a-8e60-445c-acbe-a93bf82b0900",
   "metadata": {},
   "outputs": [],
   "source": []
  },
  {
   "cell_type": "code",
   "execution_count": null,
   "id": "bcca3215-5f14-4a86-bf40-b9bae2a9f7c6",
   "metadata": {},
   "outputs": [],
   "source": []
  }
 ],
 "metadata": {
  "kernelspec": {
   "display_name": "Python 3 (ipykernel)",
   "language": "python",
   "name": "python3"
  },
  "language_info": {
   "codemirror_mode": {
    "name": "ipython",
    "version": 3
   },
   "file_extension": ".py",
   "mimetype": "text/x-python",
   "name": "python",
   "nbconvert_exporter": "python",
   "pygments_lexer": "ipython3",
   "version": "3.11.3"
  }
 },
 "nbformat": 4,
 "nbformat_minor": 5
}
